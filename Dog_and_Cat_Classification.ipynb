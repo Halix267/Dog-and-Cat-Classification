{
  "nbformat": 4,
  "nbformat_minor": 0,
  "metadata": {
    "colab": {
      "name": "Dog and Cat Classification.ipynb",
      "provenance": [],
      "authorship_tag": "ABX9TyPziMQhhmUdlxtRAkftYJky",
      "include_colab_link": true
    },
    "kernelspec": {
      "name": "python3",
      "display_name": "Python 3"
    },
    "accelerator": "GPU"
  },
  "cells": [
    {
      "cell_type": "markdown",
      "metadata": {
        "id": "view-in-github",
        "colab_type": "text"
      },
      "source": [
        "<a href=\"https://colab.research.google.com/github/Halix267/Dog-and-Cat-Classification/blob/master/Dog_and_Cat_Classification.ipynb\" target=\"_parent\"><img src=\"https://colab.research.google.com/assets/colab-badge.svg\" alt=\"Open In Colab\"/></a>"
      ]
    },
    {
      "cell_type": "code",
      "metadata": {
        "id": "KiIj4ZZy4ha0",
        "colab_type": "code",
        "colab": {}
      },
      "source": [
        "#!pip install tensorflow-2.2.0\n",
        "import tensorflow as tf\n",
        "print(tf.__version__)"
      ],
      "execution_count": null,
      "outputs": []
    },
    {
      "cell_type": "code",
      "metadata": {
        "id": "FEcAYXxqBC8D",
        "colab_type": "code",
        "colab": {}
      },
      "source": [
        "#!pip install tensorflow-gpu==2.2.0-rc0"
      ],
      "execution_count": null,
      "outputs": []
    },
    {
      "cell_type": "markdown",
      "metadata": {
        "id": "AsjvRe3qHLBM",
        "colab_type": "text"
      },
      "source": [
        ""
      ]
    },
    {
      "cell_type": "code",
      "metadata": {
        "id": "sB6Nn-fShDqr",
        "colab_type": "code",
        "colab": {}
      },
      "source": [
        "from google.colab import drive\n",
        "drive.mount('/content/gdrive')"
      ],
      "execution_count": null,
      "outputs": []
    },
    {
      "cell_type": "code",
      "metadata": {
        "id": "5WREJtNHEoaX",
        "colab_type": "code",
        "colab": {}
      },
      "source": [
        "import os\n",
        "base_dir = '/content/gdrive/My Drive/My-first_project/My-first_project'\n",
        "train_dir = os.path.join(base_dir, 'training_set')\n",
        "test_dir = os.path.join(base_dir, 'test_set')\n",
        "\n",
        "# Directory with  training cat pictures\n",
        "train_cats_dir = os.path.join(train_dir, 'cats')\n",
        "\n",
        "# Directory with training dog pictures\n",
        "train_dogs_dir = os.path.join(train_dir, 'dogs')\n",
        "\n",
        "# Directory with test cat pictures\n",
        "test_cats_dir = os.path.join(test_dir, 'cats')\n",
        "\n",
        "# Directory with test dog pictures\n",
        "test_dogs_dir = os.path.join(test_dir, 'dogs')"
      ],
      "execution_count": null,
      "outputs": []
    },
    {
      "cell_type": "code",
      "metadata": {
        "id": "58DWV1aIHeSH",
        "colab_type": "code",
        "colab": {}
      },
      "source": [
        "#Lets check if the ratio of dogs and cats are correct,it should be 32-32\n",
        "\n",
        "print('total training cat images:', len(os.listdir(train_cats_dir)))\n",
        "print('total training dog images:', len(os.listdir(train_dogs_dir)))\n",
        "print('total test cat images:', len(os.listdir(test_cats_dir)))\n",
        "print('total test dog images:', len(os.listdir(test_dogs_dir)))"
      ],
      "execution_count": null,
      "outputs": []
    },
    {
      "cell_type": "code",
      "metadata": {
        "id": "UKO4omyJHqOT",
        "colab_type": "code",
        "colab": {}
      },
      "source": [
        "from tensorflow.keras.preprocessing.image import ImageDataGenerator\n",
        "\n",
        "# Rescaling all images by 1./255\n",
        "train_datagen = ImageDataGenerator(  rescale=1./255,\n",
        "    )\n",
        "validation_datagen = ImageDataGenerator(rescale=1./255)\n",
        "\n",
        "# Flow training images in batches of 32 using train_datagen generator\n",
        "train_generator = train_datagen.flow_from_directory(\n",
        "        train_dir,  \n",
        "        target_size=(128,128),  \n",
        "        shuffle=True,\n",
        "        color_mode='grayscale',\n",
        "        batch_size=32,\n",
        "        class_mode='binary')\n",
        "\n",
        "# Flow test images in batches of 32 using validation_datagen generator\n",
        "validattion_generator = validation_datagen.flow_from_directory(\n",
        "        test_dir,\n",
        "        target_size=(128,128),\n",
        "        shuffle=True,\n",
        "        batch_size=32,\n",
        "        class_mode='binary',\n",
        "        color_mode='grayscale')\n",
        "\n",
        "\n",
        "\n",
        "#X_train,Y_train=train_generator.next()\n",
        "#X_test,Y_test=test_generator.next()"
      ],
      "execution_count": null,
      "outputs": []
    },
    {
      "cell_type": "code",
      "metadata": {
        "id": "j_MuonUjILQ8",
        "colab_type": "code",
        "colab": {}
      },
      "source": [
        "\n",
        "#model\n",
        "\n",
        "from tensorflow.keras.models import Sequential\n",
        "from tensorflow.keras.layers import Dense,Conv2D,MaxPooling2D,Flatten,Dropout,BatchNormalization\n",
        "input_shape=(128,128,1)\n",
        "model=Sequential([\n",
        "                  Conv2D(16,(3,3),input_shape=input_shape,activation='relu',kernel_initializer=tf.keras.initializers.he_uniform()), \n",
        "                  MaxPooling2D((2,2)),\n",
        "                  Dropout(0.2),\n",
        "                  Conv2D(32,(3,3),activation='relu',kernel_initializer=tf.keras.initializers.he_uniform()), \n",
        "                  MaxPooling2D((2,2)),\n",
        "                  Dropout(0.2),\n",
        "                  Conv2D(64,(3,3),activation='relu',kernel_initializer=tf.keras.initializers.he_uniform()), \n",
        "                  MaxPooling2D((2,2)),\n",
        "                  Dropout(0.2),\n",
        "                  Flatten(),\n",
        "                  \n",
        "                  Dense(128,activation='relu',kernel_regularizer=tf.keras.regularizers.l2(0.00001)),\n",
        "                  BatchNormalization(),\n",
        "                  Dropout(0.2),\n",
        "                 \n",
        "                  Dense(1,activation='sigmoid')\n",
        "                \n",
        "])"
      ],
      "execution_count": null,
      "outputs": []
    },
    {
      "cell_type": "code",
      "metadata": {
        "id": "sQXd_lNjJXO5",
        "colab_type": "code",
        "colab": {}
      },
      "source": [
        "#Compiling the model\n",
        "model.compile(\n",
        "    optimizer='adam',\n",
        "    loss='binary_crossentropy',\n",
        "    metrics=['accuracy','mae']\n",
        ")\n"
      ],
      "execution_count": null,
      "outputs": []
    },
    {
      "cell_type": "code",
      "metadata": {
        "id": "flEy2u-2MtET",
        "colab_type": "code",
        "colab": {}
      },
      "source": [
        "\n",
        "#LTraining the model\n",
        "history =model.fit(\n",
        "        train_generator,\n",
        "        epochs=20,\n",
        "        steps_per_epoch=251,\n",
        "        callbacks=tf.keras.callbacks.EarlyStopping(monitor='val_loss',patience=3,mode='min'),\n",
        "        validation_data = validattion_generator,\n",
        "        verbose=2        \n",
        ")"
      ],
      "execution_count": null,
      "outputs": []
    }
  ]
}